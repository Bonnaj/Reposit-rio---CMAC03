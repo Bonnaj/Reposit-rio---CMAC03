{
  "nbformat": 4,
  "nbformat_minor": 0,
  "metadata": {
    "colab": {
      "provenance": []
    },
    "kernelspec": {
      "name": "python3",
      "display_name": "Python 3"
    },
    "language_info": {
      "name": "python"
    }
  },
  "cells": [
    {
      "cell_type": "markdown",
      "source": [
        "### **UNIVERSIDADE FEDERAL DE ITAJUBÁ**\n",
        "### **Instituto de Matemática e Computação**\n",
        "### **Ciência da Computação**\n",
        "\n",
        "--\n",
        "\n",
        "### **CMAC03 - Algoritmos em Grafos**\n",
        "\n",
        "### **Tópico: 1. Introdução à Grafos**\n",
        "\n",
        "## **Aula Prática - Python Básico**\n",
        "\n",
        "---\n",
        "\n",
        "**Objetivo:** Este notebook tem por objetivo apresentar a linguagem que será adotada para implementação dos algoritmos que serão abordados na disciplina. Ele pode ser usado como ambiente de desenvolvimento alternativo à IDE e ao Moodle. Contudo, visando uma maior autonomia do aluno, a recomendação é que seja utilizada uma IDE instalada localmente no seu equipamento.\n",
        "\n",
        "Para cada enunciado a seguir implemente os códigos de modo a atender o que se pede.\n",
        "\n",
        "---"
      ],
      "metadata": {
        "id": "ip2ANNdKf0LB"
      }
    },
    {
      "cell_type": "markdown",
      "source": [
        "## **Matrícula:** 2022000468\n",
        "## **Nome:** João Vitor Ribeiro de Bona\n",
        "---\n"
      ],
      "metadata": {
        "id": "WlL9X1hpVa-D"
      }
    },
    {
      "cell_type": "markdown",
      "source": [
        "## **0. Bibliotecas**\n",
        "\n",
        "É recomendável adicionar as bibliotecas necessárias logo no início do código seguindo uma boa prática de programação além de evitar futuros problemas. **Obs**: Use a célula abaixo para as bibliotecas que forem necessárias."
      ],
      "metadata": {
        "id": "NtD00egiGzf5"
      }
    },
    {
      "cell_type": "markdown",
      "source": [
        "**Q1.** Instale a biblioteca iGraph (https://python.igraph.org/en/stable/)."
      ],
      "metadata": {
        "id": "mQapqw0BCTsC"
      }
    },
    {
      "cell_type": "code",
      "source": [
        "!pip install python-igraph"
      ],
      "metadata": {
        "id": "_f_df5P6K3ic",
        "colab": {
          "base_uri": "https://localhost:8080/"
        },
        "outputId": "20832277-c1e3-4ab3-d9d1-33b07f64c4c2"
      },
      "execution_count": null,
      "outputs": [
        {
          "output_type": "stream",
          "name": "stdout",
          "text": [
            "Collecting python-igraph\n",
            "  Downloading python_igraph-0.11.8-py3-none-any.whl.metadata (2.8 kB)\n",
            "Collecting igraph==0.11.8 (from python-igraph)\n",
            "  Downloading igraph-0.11.8-cp39-abi3-manylinux_2_17_x86_64.manylinux2014_x86_64.whl.metadata (3.8 kB)\n",
            "Collecting texttable>=1.6.2 (from igraph==0.11.8->python-igraph)\n",
            "  Downloading texttable-1.7.0-py2.py3-none-any.whl.metadata (9.8 kB)\n",
            "Downloading python_igraph-0.11.8-py3-none-any.whl (9.1 kB)\n",
            "Downloading igraph-0.11.8-cp39-abi3-manylinux_2_17_x86_64.manylinux2014_x86_64.whl (3.1 MB)\n",
            "\u001b[2K   \u001b[90m━━━━━━━━━━━━━━━━━━━━━━━━━━━━━━━━━━━━━━━━\u001b[0m \u001b[32m3.1/3.1 MB\u001b[0m \u001b[31m28.8 MB/s\u001b[0m eta \u001b[36m0:00:00\u001b[0m\n",
            "\u001b[?25hDownloading texttable-1.7.0-py2.py3-none-any.whl (10 kB)\n",
            "Installing collected packages: texttable, igraph, python-igraph\n",
            "Successfully installed igraph-0.11.8 python-igraph-0.11.8 texttable-1.7.0\n"
          ]
        }
      ]
    },
    {
      "cell_type": "markdown",
      "source": [
        "**Q2.** Importe as seguintes bibliotecas: numpy, time, math, random, igraph. Faça a montagem de uma pasta no repositório do Google Drive que contenha os *datasets* sobre grafos disponíveis no SIGAA (simples, ponte, zachary)."
      ],
      "metadata": {
        "id": "8CPIA02RC7Kx"
      }
    },
    {
      "cell_type": "code",
      "source": [
        "import igraph as ig\n",
        "import numpy as np\n",
        "import time\n",
        "import math"
      ],
      "metadata": {
        "id": "sBIodkzkiSzs"
      },
      "execution_count": null,
      "outputs": []
    },
    {
      "cell_type": "markdown",
      "source": [
        "---\n",
        "## **1. Variáveis e *Strings***"
      ],
      "metadata": {
        "id": "42B4P0y9FzFi"
      }
    },
    {
      "cell_type": "markdown",
      "source": [
        "**Q3.** Crie uma variável do tipo *string* que recebe um valor de entrada dado pelo usuário e retorna um valor do tipo inteiro que é o triplo do valor fornecido."
      ],
      "metadata": {
        "id": "4vmOk_z1j8X6"
      }
    },
    {
      "cell_type": "code",
      "source": [
        "i = input(\"Digite um número: \")\n",
        "n = int(i)\n",
        "triplo = n * 3\n",
        "print(\"O triplo do número é:\", triplo)"
      ],
      "metadata": {
        "id": "ww9ac5cOkMmk",
        "colab": {
          "base_uri": "https://localhost:8080/"
        },
        "outputId": "c99dd515-570a-4d89-f996-31db9fb795d8"
      },
      "execution_count": null,
      "outputs": [
        {
          "output_type": "stream",
          "name": "stdout",
          "text": [
            "Digite um número: 3\n",
            "O triplo do número é: 9\n"
          ]
        }
      ]
    },
    {
      "cell_type": "markdown",
      "source": [
        "\n",
        "**Q4.** Concatene duas *strings* dadas pela entrada do usuário e cujos caracteres estão todos em caixa baixa (minúsculos), de modo que o primeiro caracter de cada string se torne caixa alta (maiúsculo)."
      ],
      "metadata": {
        "id": "pS4CLe2cObvv"
      }
    },
    {
      "cell_type": "code",
      "source": [
        "str1 = input(\"Digite a primeira frase: \")\n",
        "str2 = input(\"Digite a segunda frase: \")\n",
        "\n",
        "r = str1.capitalize() + str2.capitalize()\n",
        "\n",
        "print(\"Resultado concatenado:\", r)"
      ],
      "metadata": {
        "id": "KwmdX7SvPt_3",
        "colab": {
          "base_uri": "https://localhost:8080/"
        },
        "outputId": "92133488-36d5-41e6-df05-4e817336ae5d"
      },
      "execution_count": null,
      "outputs": [
        {
          "output_type": "stream",
          "name": "stdout",
          "text": [
            "Digite a primeira frase: meu nome \n",
            "Digite a segunda frase: é marcos\n",
            "Resultado concatenado: Meu nome É marcos\n"
          ]
        }
      ]
    },
    {
      "cell_type": "markdown",
      "source": [
        "---\n",
        "## **2. Entrada e Saída**\n",
        "\n",
        "**Q5.** Implemente uma função que recebe como entrada o nome de um *dataset* armazenado no seu Google Drive (ex. simples, ponte, zachary), lê o respectivo arquivo .txt, atribua o conteúdo do arquivo a um objeto tipo `numpy.ndarray`, imprime na tela a respectiva matriz e o seu tipo."
      ],
      "metadata": {
        "id": "W3_UWm5MFrl5"
      }
    },
    {
      "cell_type": "code",
      "source": [
        "from google.colab import drive\n",
        "drive.mount('/content/drive')"
      ],
      "metadata": {
        "id": "gqlP4p8ZJ-re",
        "colab": {
          "base_uri": "https://localhost:8080/"
        },
        "outputId": "21e02d5f-6814-4c9c-bf3c-298184f9d44a"
      },
      "execution_count": null,
      "outputs": [
        {
          "output_type": "stream",
          "name": "stdout",
          "text": [
            "Drive already mounted at /content/drive; to attempt to forcibly remount, call drive.mount(\"/content/drive\", force_remount=True).\n"
          ]
        }
      ]
    },
    {
      "cell_type": "code",
      "source": [
        "caminho_arquivo = '/content/drive/My Drive/exemplo.txt'\n",
        "\n",
        "\n",
        "m = np.loadtxt(caminho_arquivo)\n",
        "print(\"Matriz:\")\n",
        "print(m)\n",
        "print(\"\\nTipo do objeto:\", type(m))\n"
      ],
      "metadata": {
        "colab": {
          "base_uri": "https://localhost:8080/"
        },
        "id": "z4KJdXc3BshG",
        "outputId": "abb7ffec-5194-441a-9a09-7fa13609ae51"
      },
      "execution_count": null,
      "outputs": [
        {
          "output_type": "stream",
          "name": "stdout",
          "text": [
            "Matriz:\n",
            "[[0. 1. 1. 0. 0. 1. 0.]\n",
            " [1. 0. 0. 0. 0. 0. 0.]\n",
            " [1. 0. 0. 1. 1. 1. 0.]\n",
            " [0. 0. 1. 0. 1. 0. 1.]\n",
            " [0. 0. 1. 1. 0. 0. 0.]\n",
            " [1. 0. 1. 0. 0. 0. 1.]\n",
            " [0. 0. 0. 1. 0. 1. 0.]]\n",
            "\n",
            "Tipo do objeto: <class 'numpy.ndarray'>\n"
          ]
        }
      ]
    },
    {
      "cell_type": "markdown",
      "source": [
        "**Q6.** Obtenha as dimensões da matriz no formato (linhas, colunas), bem como a lista com os valores constantes na sua diagonal."
      ],
      "metadata": {
        "id": "3jT4mpgQ_04q"
      }
    },
    {
      "cell_type": "code",
      "source": [
        "linhas, colunas = m.shape\n",
        "print(\"\\nDimensões da matriz: ({}, {})\".format(linhas, colunas))\n",
        "\n",
        "diagonal = np.diagonal(m)\n",
        "print(\"\\nDiagonal principal:\", diagonal.tolist())"
      ],
      "metadata": {
        "colab": {
          "base_uri": "https://localhost:8080/"
        },
        "id": "hyanQ1fq_qpC",
        "outputId": "6d06b81a-be18-4246-d8e5-b71a8e5744ca"
      },
      "execution_count": null,
      "outputs": [
        {
          "output_type": "stream",
          "name": "stdout",
          "text": [
            "\n",
            "Dimensões da matriz: (7, 7)\n",
            "\n",
            "Diagonal principal: [0.0, 0.0, 0.0, 0.0, 0.0, 0.0, 0.0]\n"
          ]
        }
      ]
    },
    {
      "cell_type": "markdown",
      "source": [
        "**Q7.** Usando a matriz obtida em Q5, imprima o elemento da posição [i][j] informado pelo usuário. Informe caso algum índice dado na entrada seja maior que a dimensão da matriz."
      ],
      "metadata": {
        "id": "TeMb6df9RXfx"
      }
    },
    {
      "cell_type": "code",
      "source": [
        "try:\n",
        "        i = int(input(\"\\nDigite a linha i desejada: \"))\n",
        "        j = int(input(\"Digite a coluna j desejada: \"))\n",
        "\n",
        "        if i < 0 or j < 0:\n",
        "            print(\"Índices não podem ser negativos.\")\n",
        "        elif i >= linhas or j >= colunas:\n",
        "            print(\"Erro: índice fora dos limites da matriz.\")\n",
        "        else:\n",
        "            print(f\"Elemento da posição [{i}][{j}]: {m[i][j]}\")\n",
        "\n",
        "except ValueError:\n",
        "        print(\"Entrada inválida. Por favor, digite números inteiros.\")"
      ],
      "metadata": {
        "id": "3CxUKIG5RkPE",
        "colab": {
          "base_uri": "https://localhost:8080/"
        },
        "outputId": "9b9814ab-20e9-4386-e0bd-6dd28ce27915"
      },
      "execution_count": null,
      "outputs": [
        {
          "output_type": "stream",
          "name": "stdout",
          "text": [
            "\n",
            "Digite a linha i desejada: 4\n",
            "Digite a coluna j desejada: 6\n",
            "Elemento da posição [4][6]: 0.0\n"
          ]
        }
      ]
    },
    {
      "cell_type": "markdown",
      "source": [
        "**Q8.** Salve em um arquivo no seu Google Drive com o nome \"resultado.txt\", lista dos valores da diagonal da matriz obtida em Q6."
      ],
      "metadata": {
        "id": "6b8-758_OGfF"
      }
    },
    {
      "cell_type": "code",
      "source": [
        "caminho_salvar = '/content/drive/My Drive/resultado.txt'\n",
        "\n",
        "diagonal_str = 'Valores da diagonal principal:\\n' + ', '.join(map(str, diagonal.tolist()))\n",
        "\n",
        "with open(caminho_salvar, 'w') as f:\n",
        "    f.write(diagonal_str)\n",
        "\n",
        "print(f\"\\nLista salva em Arquivo!\")"
      ],
      "metadata": {
        "colab": {
          "base_uri": "https://localhost:8080/"
        },
        "id": "j2PuWn_fO-MT",
        "outputId": "ceac2e72-7c8e-4601-ef60-3c0bf2286527"
      },
      "execution_count": null,
      "outputs": [
        {
          "output_type": "stream",
          "name": "stdout",
          "text": [
            "\n",
            "Lista salva em Arquivo!\n"
          ]
        }
      ]
    },
    {
      "cell_type": "markdown",
      "source": [
        "---\n",
        "## **3. Estruturas**"
      ],
      "metadata": {
        "id": "bIshTAb2F-8n"
      }
    },
    {
      "cell_type": "markdown",
      "source": [
        "**Q9.** A partir da matriz, implemente uma função que constroi um dicionário. Cada chave do dicionário corresponde ao índice da linha da matriz. O valor de cada chave corresponde a uma lista com os índices das colunas associadas à linha em questão, que possuam valor maior que 0. Caso o valor da coluna seja maior que 1 deve-se repetir o índice da coluna conforme o valor (ex. a célula dada pela linha 1 e coluna 2 tem valor 4, logo, o valor 2 na lista da linha 1 precisará ser repetido 4 vezes)."
      ],
      "metadata": {
        "id": "XD_tfMWKFlTB"
      }
    },
    {
      "cell_type": "code",
      "source": [
        "def construir_dicionario(m):\n",
        "    dicionario = {}\n",
        "    linhas, colunas = m.shape\n",
        "\n",
        "    for i in range(linhas):\n",
        "        colunas_positivas = []\n",
        "        for j in range(colunas):\n",
        "            valor = int(m[i][j])\n",
        "            if valor > 0:\n",
        "                colunas_positivas.extend([j] * valor)\n",
        "        dicionario[i] = colunas_positivas\n",
        "\n",
        "    return dicionario\n",
        "\n",
        "dicionario_resultado = construir_dicionario(m)\n",
        "\n",
        "print(\"\\nDicionário da matriz:\")\n",
        "for chave, valor in dicionario_resultado.items():\n",
        "    print(f\"{chave}: {valor}\")"
      ],
      "metadata": {
        "id": "slz-xUP3HWha",
        "colab": {
          "base_uri": "https://localhost:8080/"
        },
        "outputId": "6f6ce192-3dae-483a-a00f-4815b2d79126"
      },
      "execution_count": null,
      "outputs": [
        {
          "output_type": "stream",
          "name": "stdout",
          "text": [
            "\n",
            "Dicionário da matriz:\n",
            "0: [1, 2, 5]\n",
            "1: [0]\n",
            "2: [0, 3, 4, 5]\n",
            "3: [2, 4, 6]\n",
            "4: [2, 3]\n",
            "5: [0, 2, 6]\n",
            "6: [3, 5]\n"
          ]
        }
      ]
    },
    {
      "cell_type": "markdown",
      "source": [
        "**Q10.** Calcule o tempo total de execução da função que implementou em Q9, considerando precisão de 4 (quatro) casas decimais."
      ],
      "metadata": {
        "id": "lghWWu97BYSZ"
      }
    },
    {
      "cell_type": "code",
      "source": [
        "inicio = time.time()\n",
        "dicionario_resultado = construir_dicionario(m)\n",
        "fim = time.time()\n",
        "\n",
        "tempo_execucao = fim - inicio\n",
        "\n",
        "print(f\"{tempo_execucao:.4f}\")"
      ],
      "metadata": {
        "colab": {
          "base_uri": "https://localhost:8080/"
        },
        "id": "BqNrNBf_NBZt",
        "outputId": "eacb9425-a693-466a-fc6b-a7f62057dff8"
      },
      "execution_count": null,
      "outputs": [
        {
          "output_type": "stream",
          "name": "stdout",
          "text": [
            "0.0002\n"
          ]
        }
      ]
    },
    {
      "cell_type": "markdown",
      "source": [
        "\n",
        "**Q11.** Crie uma lista que armazene os valores de uma linha da matriz obtida em Q5, cujo índice da linha é dado como entrada. Imprima na tela essa lista e a sua versão invertida."
      ],
      "metadata": {
        "id": "sBY0yhugPzfv"
      }
    },
    {
      "cell_type": "code",
      "source": [
        "try:\n",
        "    i = int(input(\"Digite a linha i desejada: \"))\n",
        "\n",
        "    if i < 0 or i >= m.shape[0]:\n",
        "        print(\"Erro: índice fora da matriz.\")\n",
        "    else:\n",
        "        linha = m[i].astype(int).tolist()\n",
        "        linha_invertida = linha[::-1]\n",
        "\n",
        "        print(linha)\n",
        "        print(linha_invertida)\n",
        "\n",
        "except ValueError:\n",
        "    print(\"Entrada inválida. Por favor, digite um número inteiro.\")"
      ],
      "metadata": {
        "id": "zZqJePzTQKcD",
        "colab": {
          "base_uri": "https://localhost:8080/"
        },
        "outputId": "ff349f3f-dd0c-4273-bc30-77c1c268db60"
      },
      "execution_count": null,
      "outputs": [
        {
          "output_type": "stream",
          "name": "stdout",
          "text": [
            "Digite a linha i desejada: 4\n",
            "[0, 0, 1, 1, 0, 0, 0]\n",
            "[0, 0, 0, 1, 1, 0, 0]\n"
          ]
        }
      ]
    },
    {
      "cell_type": "markdown",
      "source": [
        "**Q12.** Considere a lista obtida em Q11 e altere o elemento que consta na posição 1 dessa lista para o valor 2."
      ],
      "metadata": {
        "id": "DjXLHFguEnyT"
      }
    },
    {
      "cell_type": "code",
      "source": [
        "try:\n",
        "    i = int(input(\"Digite a linha i desejada: \"))\n",
        "\n",
        "    if i < 0 or i >= m.shape[0]:\n",
        "        print(\"Erro: índice fora dos limites da matriz.\")\n",
        "    else:\n",
        "        linha_lista = m[i].astype(int).tolist()\n",
        "\n",
        "        linha_lista[1] = 2\n",
        "        print(linha_lista)\n",
        "\n",
        "except ValueError:\n",
        "    print(\"Entrada inválida. Por favor, digite um número inteiro.\")"
      ],
      "metadata": {
        "colab": {
          "base_uri": "https://localhost:8080/"
        },
        "id": "IFsHxJFDNGmc",
        "outputId": "b1b7fe12-60bd-4d18-b531-3a4ca48eba03"
      },
      "execution_count": null,
      "outputs": [
        {
          "output_type": "stream",
          "name": "stdout",
          "text": [
            "Digite a linha i desejada: 4\n",
            "[0, 2, 1, 1, 0, 0, 0]\n"
          ]
        }
      ]
    },
    {
      "cell_type": "markdown",
      "source": [
        "**Q13.** Considerando a lista obtida em Q11, inclua o elemento 5 no final dessa lista e inclua o elemento 3 na posição 1 da lista."
      ],
      "metadata": {
        "id": "I54KG6viFQbG"
      }
    },
    {
      "cell_type": "code",
      "source": [
        "try:\n",
        "    i = int(input(\"Digite a linha i desejada: \"))\n",
        "\n",
        "    if i < 0 or i >= m.shape[0]:\n",
        "        print(\"Erro: índice fora dos limites da matriz.\")\n",
        "    else:\n",
        "        linha_lista = m[i].astype(int).tolist()\n",
        "\n",
        "        linha_lista[1] = 2\n",
        "\n",
        "        linha_lista.append(5)\n",
        "\n",
        "        linha_lista.insert(1, 3)\n",
        "        print(linha_lista)\n",
        "\n",
        "except ValueError:\n",
        "    print(\"Entrada inválida. Por favor, digite um número inteiro.\")"
      ],
      "metadata": {
        "colab": {
          "base_uri": "https://localhost:8080/"
        },
        "id": "fCSQ-oC3FukX",
        "outputId": "a2480295-a768-4999-e063-e92226199b31"
      },
      "execution_count": null,
      "outputs": [
        {
          "output_type": "stream",
          "name": "stdout",
          "text": [
            "Digite a linha i desejada: 4\n",
            "[0, 3, 2, 1, 1, 0, 0, 0, 5]\n"
          ]
        }
      ]
    },
    {
      "cell_type": "markdown",
      "source": [
        "---\n",
        "## **4. Estruturas de Repetição**"
      ],
      "metadata": {
        "id": "aTmrJnfXGHVE"
      }
    },
    {
      "cell_type": "markdown",
      "source": [
        "**Q14.** Crie uma função que recebe um número do usuário e imprime na tela uma contagem regressiva até o valor 1. Utilize o comando `for`."
      ],
      "metadata": {
        "id": "bJkBHPVMSMVn"
      }
    },
    {
      "cell_type": "code",
      "source": [
        "def contagem_regressiva():\n",
        "    try:\n",
        "        n = int(input(\"Digite um número: \"))\n",
        "\n",
        "        if n < 1:\n",
        "            print(\"Digite um número maior ou igual a 1.\")\n",
        "        else:\n",
        "            for i in range(n, 0, -1):\n",
        "                print(i)\n",
        "\n",
        "    except ValueError:\n",
        "        print(\"Entrada inválida. Por favor, digite um número inteiro.\")\n",
        "\n",
        "contagem_regressiva()\n",
        "print(\"Terminou\")"
      ],
      "metadata": {
        "id": "BWJi9WxHSmR3",
        "colab": {
          "base_uri": "https://localhost:8080/"
        },
        "outputId": "3f3665fa-ec0d-4adf-b99d-82c919ca27cc"
      },
      "execution_count": null,
      "outputs": [
        {
          "output_type": "stream",
          "name": "stdout",
          "text": [
            "Digite um número: 10\n",
            "10\n",
            "9\n",
            "8\n",
            "7\n",
            "6\n",
            "5\n",
            "4\n",
            "3\n",
            "2\n",
            "1\n",
            "Terminou\n"
          ]
        }
      ]
    },
    {
      "cell_type": "markdown",
      "source": [
        "**Q15.** Implemente a mesma função solicitada em Q14, mas utilizando o comando `while`."
      ],
      "metadata": {
        "id": "ekjjbGiHG_Nd"
      }
    },
    {
      "cell_type": "code",
      "source": [
        "def contagem_regressiva_while():\n",
        "    try:\n",
        "        n = int(input(\"Digite um número: \"))\n",
        "\n",
        "        if n < 1:\n",
        "            print(\"Por favor, digite um número maior ou igual a 1.\")\n",
        "        else:\n",
        "            while n >= 1:\n",
        "                print(n)\n",
        "                n -= 1\n",
        "\n",
        "    except ValueError:\n",
        "        print(\"Entrada inválida. Por favor, digite um número inteiro.\")\n",
        "\n",
        "contagem_regressiva_while()\n",
        "print(\"Terminou\")"
      ],
      "metadata": {
        "id": "bY0qWA0gSjjg",
        "colab": {
          "base_uri": "https://localhost:8080/"
        },
        "outputId": "e225b1b2-21c9-43b5-e531-5469170ee341"
      },
      "execution_count": null,
      "outputs": [
        {
          "output_type": "stream",
          "name": "stdout",
          "text": [
            "Digite um número: 10\n",
            "10\n",
            "9\n",
            "8\n",
            "7\n",
            "6\n",
            "5\n",
            "4\n",
            "3\n",
            "2\n",
            "1\n",
            "Terminou\n"
          ]
        }
      ]
    },
    {
      "cell_type": "markdown",
      "source": [
        "**Q16.** Implemente a mesma função solicitada em Q14, utilizando uma função recursiva."
      ],
      "metadata": {
        "id": "BZp24Cx7HXuv"
      }
    },
    {
      "cell_type": "code",
      "source": [
        "def contagem_regressiva_recursiva(n):\n",
        "    if n < 1:\n",
        "        return\n",
        "    print(n)\n",
        "    contagem_regressiva_recursiva(n - 1)\n",
        "\n",
        "def iniciar_contagem_recursiva():\n",
        "    try:\n",
        "        n = int(input(\"Digite um número: \"))\n",
        "        if n < 1:\n",
        "            print(\"Por favor, digite um número maior ou igual a 1.\")\n",
        "        else:\n",
        "            contagem_regressiva_recursiva(n)\n",
        "\n",
        "\n",
        "    except ValueError:\n",
        "        print(\"Entrada inválida. Por favor, digite um número inteiro.\")\n",
        "\n",
        "iniciar_contagem_recursiva()\n",
        "print(\"Terminou\")"
      ],
      "metadata": {
        "colab": {
          "base_uri": "https://localhost:8080/"
        },
        "id": "hjrh8nIsHi6S",
        "outputId": "3f4a609a-54f0-4f12-f4f9-95f670d278e6"
      },
      "execution_count": null,
      "outputs": [
        {
          "output_type": "stream",
          "name": "stdout",
          "text": [
            "Digite um número: 10\n",
            "10\n",
            "9\n",
            "8\n",
            "7\n",
            "6\n",
            "5\n",
            "4\n",
            "3\n",
            "2\n",
            "1\n",
            "Terminou\n"
          ]
        }
      ]
    },
    {
      "cell_type": "markdown",
      "source": [
        "---\n",
        "## **5. Resolução de Problemas**"
      ],
      "metadata": {
        "id": "5A4t70TjF4wi"
      }
    },
    {
      "cell_type": "markdown",
      "source": [
        "**Q17.** Calcule a área de uma circunferência com base no raio recebido pelo usuário. Imprima na tela o resultado."
      ],
      "metadata": {
        "id": "TD8dIUAjkM6O"
      }
    },
    {
      "cell_type": "code",
      "source": [
        "def area():\n",
        "    try:\n",
        "        raio = float(input(\"Digite o raio da circunferência: \"))\n",
        "        if raio < 0:\n",
        "            print(\"O raio não pode ser negativo.\")\n",
        "        else:\n",
        "            area = math.pi * raio ** 2\n",
        "            print(f\"\\nA área da circunferência é: {area:.2f}\")\n",
        "    except ValueError:\n",
        "        print(\"Entrada inválida. Por favor, digite um número.\")\n",
        "\n",
        "area()"
      ],
      "metadata": {
        "id": "0LPNFCFtmPig",
        "colab": {
          "base_uri": "https://localhost:8080/"
        },
        "outputId": "e6204f26-d535-450b-8cc4-1b308e0eb991"
      },
      "execution_count": null,
      "outputs": [
        {
          "output_type": "stream",
          "name": "stdout",
          "text": [
            "Digite o raio da circunferência: 5\n",
            "\n",
            "A área da circunferência é: 78.54\n"
          ]
        }
      ]
    },
    {
      "cell_type": "markdown",
      "source": [
        "\n",
        "**Q18.** Crie um programa que recebe duas notas do usuário e retorna uma mensagem com base na aprovação ou reprovação considerando média maior ou igual a 6,0."
      ],
      "metadata": {
        "id": "WHINcIO5RknB"
      }
    },
    {
      "cell_type": "code",
      "source": [
        "def media_total():\n",
        "    try:\n",
        "        nota1 = float(input(\"Digite o valor da nota 1: \"))\n",
        "        nota2 = float(input(\"Digite o valor da nota 2: \"))\n",
        "\n",
        "        media = (nota1 + nota2) / 2\n",
        "\n",
        "        if media >= 6.0:\n",
        "            print(f\"Parabéns sua média foi {media:.2f} e você foi APROVADO!!\")\n",
        "        else:\n",
        "            print(f\"Infelizmente sua média foi {media:.2f} e você foi REPROVADO!!\")\n",
        "\n",
        "    except ValueError:\n",
        "        print(\"Entrada inválida. Por favor, digite números válidos para as notas.\")\n",
        "\n",
        "media_total()"
      ],
      "metadata": {
        "id": "V0fGa7NkRv3b",
        "colab": {
          "base_uri": "https://localhost:8080/"
        },
        "outputId": "b29a5dcd-1165-4cb9-dbf2-648f7bfe0016"
      },
      "execution_count": null,
      "outputs": [
        {
          "output_type": "stream",
          "name": "stdout",
          "text": [
            "Digite o valor da nota 1: 4.7\n",
            "Digite o valor da nota 2: 5.9\n",
            "Infelizmente sua média foi 5.30 e você foi REPROVADO!!\n"
          ]
        }
      ]
    },
    {
      "cell_type": "markdown",
      "source": [
        "**Q19.** Implemente uma função que recebe uma medida de ângulo em graus e retorna uma mensagem indicando o seu quadrante."
      ],
      "metadata": {
        "id": "J7UwSESQR5YS"
      }
    },
    {
      "cell_type": "code",
      "source": [
        "def quadrante():\n",
        "    try:\n",
        "        angulo = float(input(\"Digite o valor do ângulo em graus(0 a 360): \"))\n",
        "\n",
        "        angulo = angulo % 360\n",
        "\n",
        "        if 0 <= angulo <= 90:\n",
        "            print(\"1º quadrante\")\n",
        "        elif 90 < angulo <= 180:\n",
        "            print(\"2º quadrante\")\n",
        "        elif 180 < angulo <= 270:\n",
        "            print(\"3º quadrante\")\n",
        "        elif 270 < angulo <= 360:\n",
        "            print(\"4º quadrante\")\n",
        "    except ValueError:\n",
        "        print(\"Entrada inválida. Por favor, digite um número.\")\n",
        "\n",
        "quadrante()"
      ],
      "metadata": {
        "id": "wLEVYyzuSMEA",
        "colab": {
          "base_uri": "https://localhost:8080/"
        },
        "outputId": "7016cb8c-7339-469d-df29-e5622a041a0b"
      },
      "execution_count": null,
      "outputs": [
        {
          "output_type": "stream",
          "name": "stdout",
          "text": [
            "Digite o valor do ângulo em graus(0 a 360): 180\n",
            "2º quadrante\n"
          ]
        }
      ]
    }
  ]
}