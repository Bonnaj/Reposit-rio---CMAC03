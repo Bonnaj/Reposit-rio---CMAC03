{
  "nbformat": 4,
  "nbformat_minor": 0,
  "metadata": {
    "colab": {
      "provenance": []
    },
    "kernelspec": {
      "name": "python3",
      "display_name": "Python 3"
    },
    "language_info": {
      "name": "python"
    }
  },
  "cells": [
    {
      "cell_type": "code",
      "execution_count": 3,
      "metadata": {
        "colab": {
          "base_uri": "https://localhost:8080/"
        },
        "id": "qhisEgopWgsL",
        "outputId": "350da93a-15f4-4fca-c76a-90ddb2a72472"
      },
      "outputs": [
        {
          "output_type": "stream",
          "name": "stdout",
          "text": [
            "Drive already mounted at /content/drive; to attempt to forcibly remount, call drive.mount(\"/content/drive\", force_remount=True).\n"
          ]
        }
      ],
      "source": [
        "import numpy as np\n",
        "import os\n",
        "\n",
        "# Caminho padrão do Google Drive para importação\n",
        "from google.colab import drive\n",
        "drive.mount('/content/drive')"
      ]
    },
    {
      "cell_type": "code",
      "source": [
        "# Caminho para o local exato do arquivo no meu Drive\n",
        "caminho_arquivo = '/content/drive/MyDrive/zachary.txt'\n",
        "\n",
        "def ler_arquivo(arquivo):\n",
        "\n",
        "# Lê uma matriz de adjacência a partir de um arquivo .txt e retorna como matriz NumPy\n",
        "\n",
        "    try:\n",
        "        m = np.loadtxt(arquivo, dtype=int)\n",
        "        return m\n",
        "    except Exception as e:\n",
        "        print(\"Erro ao ler o arquivo\")\n",
        "\n",
        "def dimensoes_matriz(m):\n",
        "\n",
        "# Retorna a quantidade de linhas e colunas da matriz NumPy\n",
        "\n",
        "    return m.shape\n",
        "\n",
        "def resultado(arquivo, qtd_linhas, qtd_colunas, nome_saida=\"resultado.txt\"):\n",
        "\n",
        "# Salva o resultado no formato: nome_instancia qtd_linhas qtd_colunas, em um arquivo de saída\n",
        "\n",
        "    nome_instancia = os.path.basename(arquivo)\n",
        "    resultado = f\"{nome_instancia} {qtd_linhas} {qtd_colunas}\"\n",
        "    print(\"Resultado:\", resultado)\n",
        "    with open(nome_saida, \"w\") as f:\n",
        "        f.write(resultado)\n",
        "\n",
        "def main(arquivo_instancia):\n",
        "    m = ler_arquivo(arquivo_instancia)\n",
        "    if m is not None:\n",
        "        qtd_linhas, qtd_colunas = dimensoes_matriz(m)\n",
        "        resultado(arquivo_instancia, qtd_linhas, qtd_colunas)\n",
        "\n",
        "# Executar com o arquivo no Drive\n",
        "main(caminho_arquivo)"
      ],
      "metadata": {
        "colab": {
          "base_uri": "https://localhost:8080/"
        },
        "id": "Z9PcAkyMaKtb",
        "outputId": "eec27dd4-a6c7-4d56-f2f5-3b5be5422be7"
      },
      "execution_count": 4,
      "outputs": [
        {
          "output_type": "stream",
          "name": "stdout",
          "text": [
            "Resultado: zachary.txt 34 34\n"
          ]
        }
      ]
    }
  ]
}